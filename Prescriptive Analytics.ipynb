{
 "cells": [
  {
   "cell_type": "markdown",
   "id": "b9080d04-09f6-439a-8caf-bdccdd5a6976",
   "metadata": {},
   "source": [
    "# Prescriptive Analytics"
   ]
  },
  {
   "cell_type": "markdown",
   "id": "1ca45dad-6a1a-479f-980c-06129b059464",
   "metadata": {},
   "source": [
    "### Import necessary libraries"
   ]
  },
  {
   "cell_type": "code",
   "execution_count": 7,
   "id": "55a5ad07-e999-4cd7-b80f-7d9b662573d0",
   "metadata": {},
   "outputs": [],
   "source": [
    "import pandas as pd\n",
    "import numpy as np\n",
    "import matplotlib.pyplot as plt\n",
    "from scipy.optimize import linprog\n",
    "import seaborn as sns"
   ]
  },
  {
   "cell_type": "code",
   "execution_count": 9,
   "id": "cc6b34cb-166a-4db0-b52a-8335b8fb52c7",
   "metadata": {},
   "outputs": [
    {
     "data": {
      "text/html": [
       "<div>\n",
       "<style scoped>\n",
       "    .dataframe tbody tr th:only-of-type {\n",
       "        vertical-align: middle;\n",
       "    }\n",
       "\n",
       "    .dataframe tbody tr th {\n",
       "        vertical-align: top;\n",
       "    }\n",
       "\n",
       "    .dataframe thead th {\n",
       "        text-align: right;\n",
       "    }\n",
       "</style>\n",
       "<table border=\"1\" class=\"dataframe\">\n",
       "  <thead>\n",
       "    <tr style=\"text-align: right;\">\n",
       "      <th></th>\n",
       "      <th>Product_Code</th>\n",
       "      <th>Warehouse</th>\n",
       "      <th>Product_Category</th>\n",
       "      <th>Date</th>\n",
       "      <th>Order_Demand</th>\n",
       "    </tr>\n",
       "  </thead>\n",
       "  <tbody>\n",
       "    <tr>\n",
       "      <th>0</th>\n",
       "      <td>Product_0993</td>\n",
       "      <td>Whse_J</td>\n",
       "      <td>Category_028</td>\n",
       "      <td>2012/7/27</td>\n",
       "      <td>100</td>\n",
       "    </tr>\n",
       "    <tr>\n",
       "      <th>1</th>\n",
       "      <td>Product_0979</td>\n",
       "      <td>Whse_J</td>\n",
       "      <td>Category_028</td>\n",
       "      <td>2012/1/19</td>\n",
       "      <td>500</td>\n",
       "    </tr>\n",
       "    <tr>\n",
       "      <th>2</th>\n",
       "      <td>Product_0979</td>\n",
       "      <td>Whse_J</td>\n",
       "      <td>Category_028</td>\n",
       "      <td>2012/2/3</td>\n",
       "      <td>500</td>\n",
       "    </tr>\n",
       "    <tr>\n",
       "      <th>3</th>\n",
       "      <td>Product_0979</td>\n",
       "      <td>Whse_J</td>\n",
       "      <td>Category_028</td>\n",
       "      <td>2012/2/9</td>\n",
       "      <td>500</td>\n",
       "    </tr>\n",
       "    <tr>\n",
       "      <th>4</th>\n",
       "      <td>Product_0979</td>\n",
       "      <td>Whse_J</td>\n",
       "      <td>Category_028</td>\n",
       "      <td>2012/3/2</td>\n",
       "      <td>500</td>\n",
       "    </tr>\n",
       "  </tbody>\n",
       "</table>\n",
       "</div>"
      ],
      "text/plain": [
       "   Product_Code Warehouse Product_Category       Date Order_Demand\n",
       "0  Product_0993    Whse_J     Category_028  2012/7/27         100 \n",
       "1  Product_0979    Whse_J     Category_028  2012/1/19         500 \n",
       "2  Product_0979    Whse_J     Category_028   2012/2/3         500 \n",
       "3  Product_0979    Whse_J     Category_028   2012/2/9         500 \n",
       "4  Product_0979    Whse_J     Category_028   2012/3/2         500 "
      ]
     },
     "execution_count": 9,
     "metadata": {},
     "output_type": "execute_result"
    }
   ],
   "source": [
    "df= pd.read_csv(\"Historical Product Demand.csv\")\n",
    "df.head()"
   ]
  },
  {
   "cell_type": "markdown",
   "id": "ae5f4205-3139-4f63-926c-87b195d809d0",
   "metadata": {},
   "source": [
    "### Data Exploration & Cleaning"
   ]
  },
  {
   "cell_type": "code",
   "execution_count": 11,
   "id": "d72c19c7-c08e-4f83-9f90-4959b0a65340",
   "metadata": {},
   "outputs": [
    {
     "data": {
      "text/plain": [
       "(1048575, 5)"
      ]
     },
     "execution_count": 11,
     "metadata": {},
     "output_type": "execute_result"
    }
   ],
   "source": [
    "df.shape"
   ]
  },
  {
   "cell_type": "code",
   "execution_count": 13,
   "id": "39e18db7-a273-43bc-80a2-07160c63a8a7",
   "metadata": {},
   "outputs": [
    {
     "data": {
      "text/html": [
       "<div>\n",
       "<style scoped>\n",
       "    .dataframe tbody tr th:only-of-type {\n",
       "        vertical-align: middle;\n",
       "    }\n",
       "\n",
       "    .dataframe tbody tr th {\n",
       "        vertical-align: top;\n",
       "    }\n",
       "\n",
       "    .dataframe thead th {\n",
       "        text-align: right;\n",
       "    }\n",
       "</style>\n",
       "<table border=\"1\" class=\"dataframe\">\n",
       "  <thead>\n",
       "    <tr style=\"text-align: right;\">\n",
       "      <th></th>\n",
       "      <th>Product_Code</th>\n",
       "      <th>Warehouse</th>\n",
       "      <th>Product_Category</th>\n",
       "      <th>Date</th>\n",
       "      <th>Order_Demand</th>\n",
       "    </tr>\n",
       "  </thead>\n",
       "  <tbody>\n",
       "    <tr>\n",
       "      <th>count</th>\n",
       "      <td>1048575</td>\n",
       "      <td>1048575</td>\n",
       "      <td>1048575</td>\n",
       "      <td>1037336</td>\n",
       "      <td>1048575</td>\n",
       "    </tr>\n",
       "    <tr>\n",
       "      <th>unique</th>\n",
       "      <td>2160</td>\n",
       "      <td>4</td>\n",
       "      <td>33</td>\n",
       "      <td>1729</td>\n",
       "      <td>3828</td>\n",
       "    </tr>\n",
       "    <tr>\n",
       "      <th>top</th>\n",
       "      <td>Product_1359</td>\n",
       "      <td>Whse_J</td>\n",
       "      <td>Category_019</td>\n",
       "      <td>2013/9/27</td>\n",
       "      <td>1000</td>\n",
       "    </tr>\n",
       "    <tr>\n",
       "      <th>freq</th>\n",
       "      <td>16936</td>\n",
       "      <td>764447</td>\n",
       "      <td>481099</td>\n",
       "      <td>2075</td>\n",
       "      <td>112682</td>\n",
       "    </tr>\n",
       "  </tbody>\n",
       "</table>\n",
       "</div>"
      ],
      "text/plain": [
       "        Product_Code Warehouse Product_Category       Date Order_Demand\n",
       "count        1048575   1048575          1048575    1037336      1048575\n",
       "unique          2160         4               33       1729         3828\n",
       "top     Product_1359    Whse_J     Category_019  2013/9/27        1000 \n",
       "freq           16936    764447           481099       2075       112682"
      ]
     },
     "execution_count": 13,
     "metadata": {},
     "output_type": "execute_result"
    }
   ],
   "source": [
    "df.describe()"
   ]
  },
  {
   "cell_type": "code",
   "execution_count": 15,
   "id": "250fab96-4fa1-4e36-8bbf-7f36895e20b4",
   "metadata": {},
   "outputs": [
    {
     "name": "stdout",
     "output_type": "stream",
     "text": [
      "<class 'pandas.core.frame.DataFrame'>\n",
      "RangeIndex: 1048575 entries, 0 to 1048574\n",
      "Data columns (total 5 columns):\n",
      " #   Column            Non-Null Count    Dtype \n",
      "---  ------            --------------    ----- \n",
      " 0   Product_Code      1048575 non-null  object\n",
      " 1   Warehouse         1048575 non-null  object\n",
      " 2   Product_Category  1048575 non-null  object\n",
      " 3   Date              1037336 non-null  object\n",
      " 4   Order_Demand      1048575 non-null  object\n",
      "dtypes: object(5)\n",
      "memory usage: 40.0+ MB\n"
     ]
    }
   ],
   "source": [
    "df.info()"
   ]
  },
  {
   "cell_type": "markdown",
   "id": "990603d2-369f-4edb-abca-16490fba0eda",
   "metadata": {},
   "source": [
    "### Data Cleaning"
   ]
  },
  {
   "cell_type": "code",
   "execution_count": 17,
   "id": "658aa649-c426-4bf8-a5d8-2b4c1bf87836",
   "metadata": {},
   "outputs": [
    {
     "data": {
      "text/plain": [
       "<bound method DataFrame.sum of          Product_Code  Warehouse  Product_Category   Date  Order_Demand\n",
       "0               False      False             False  False         False\n",
       "1               False      False             False  False         False\n",
       "2               False      False             False  False         False\n",
       "3               False      False             False  False         False\n",
       "4               False      False             False  False         False\n",
       "...               ...        ...               ...    ...           ...\n",
       "1048570         False      False             False  False         False\n",
       "1048571         False      False             False  False         False\n",
       "1048572         False      False             False  False         False\n",
       "1048573         False      False             False  False         False\n",
       "1048574         False      False             False  False         False\n",
       "\n",
       "[1048575 rows x 5 columns]>"
      ]
     },
     "execution_count": 17,
     "metadata": {},
     "output_type": "execute_result"
    }
   ],
   "source": [
    "df.isnull().sum"
   ]
  },
  {
   "cell_type": "code",
   "execution_count": 19,
   "id": "3083d000-5589-4e3f-862e-6b80d794292f",
   "metadata": {},
   "outputs": [],
   "source": [
    "# Dropping rows with missing values in the \"Order Demand\" column\n",
    "df[\"Order_Demand\"] = pd.to_numeric(df[\"Order_Demand\"], errors=\"coerce\")"
   ]
  },
  {
   "cell_type": "code",
   "execution_count": 21,
   "id": "7ddd16f8-18e3-4b32-8f8e-b65be751dc47",
   "metadata": {},
   "outputs": [
    {
     "data": {
      "text/html": [
       "<div>\n",
       "<style scoped>\n",
       "    .dataframe tbody tr th:only-of-type {\n",
       "        vertical-align: middle;\n",
       "    }\n",
       "\n",
       "    .dataframe tbody tr th {\n",
       "        vertical-align: top;\n",
       "    }\n",
       "\n",
       "    .dataframe thead th {\n",
       "        text-align: right;\n",
       "    }\n",
       "</style>\n",
       "<table border=\"1\" class=\"dataframe\">\n",
       "  <thead>\n",
       "    <tr style=\"text-align: right;\">\n",
       "      <th></th>\n",
       "      <th>Product_Code</th>\n",
       "      <th>Warehouse</th>\n",
       "      <th>Product_Category</th>\n",
       "      <th>Order_Demand</th>\n",
       "    </tr>\n",
       "  </thead>\n",
       "  <tbody>\n",
       "    <tr>\n",
       "      <th>1970-01-01 00:00:00.000000000</th>\n",
       "      <td>Product_0993</td>\n",
       "      <td>Whse_J</td>\n",
       "      <td>Category_028</td>\n",
       "      <td>100.0</td>\n",
       "    </tr>\n",
       "    <tr>\n",
       "      <th>1970-01-01 00:00:00.000000001</th>\n",
       "      <td>Product_0979</td>\n",
       "      <td>Whse_J</td>\n",
       "      <td>Category_028</td>\n",
       "      <td>500.0</td>\n",
       "    </tr>\n",
       "    <tr>\n",
       "      <th>1970-01-01 00:00:00.000000002</th>\n",
       "      <td>Product_0979</td>\n",
       "      <td>Whse_J</td>\n",
       "      <td>Category_028</td>\n",
       "      <td>500.0</td>\n",
       "    </tr>\n",
       "    <tr>\n",
       "      <th>1970-01-01 00:00:00.000000003</th>\n",
       "      <td>Product_0979</td>\n",
       "      <td>Whse_J</td>\n",
       "      <td>Category_028</td>\n",
       "      <td>500.0</td>\n",
       "    </tr>\n",
       "    <tr>\n",
       "      <th>1970-01-01 00:00:00.000000004</th>\n",
       "      <td>Product_0979</td>\n",
       "      <td>Whse_J</td>\n",
       "      <td>Category_028</td>\n",
       "      <td>500.0</td>\n",
       "    </tr>\n",
       "    <tr>\n",
       "      <th>...</th>\n",
       "      <td>...</td>\n",
       "      <td>...</td>\n",
       "      <td>...</td>\n",
       "      <td>...</td>\n",
       "    </tr>\n",
       "    <tr>\n",
       "      <th>1970-01-01 00:00:00.001048570</th>\n",
       "      <td>Product_1791</td>\n",
       "      <td>Whse_J</td>\n",
       "      <td>Category_006</td>\n",
       "      <td>1000.0</td>\n",
       "    </tr>\n",
       "    <tr>\n",
       "      <th>1970-01-01 00:00:00.001048571</th>\n",
       "      <td>Product_1974</td>\n",
       "      <td>Whse_J</td>\n",
       "      <td>Category_006</td>\n",
       "      <td>1.0</td>\n",
       "    </tr>\n",
       "    <tr>\n",
       "      <th>1970-01-01 00:00:00.001048572</th>\n",
       "      <td>Product_1787</td>\n",
       "      <td>Whse_J</td>\n",
       "      <td>Category_006</td>\n",
       "      <td>2500.0</td>\n",
       "    </tr>\n",
       "    <tr>\n",
       "      <th>1970-01-01 00:00:00.001048573</th>\n",
       "      <td>Product_0901</td>\n",
       "      <td>Whse_J</td>\n",
       "      <td>Category_023</td>\n",
       "      <td>50.0</td>\n",
       "    </tr>\n",
       "    <tr>\n",
       "      <th>1970-01-01 00:00:00.001048574</th>\n",
       "      <td>Product_0704</td>\n",
       "      <td>Whse_J</td>\n",
       "      <td>Category_001</td>\n",
       "      <td>4.0</td>\n",
       "    </tr>\n",
       "  </tbody>\n",
       "</table>\n",
       "<p>1048575 rows × 4 columns</p>\n",
       "</div>"
      ],
      "text/plain": [
       "                               Product_Code Warehouse Product_Category  \\\n",
       "1970-01-01 00:00:00.000000000  Product_0993    Whse_J     Category_028   \n",
       "1970-01-01 00:00:00.000000001  Product_0979    Whse_J     Category_028   \n",
       "1970-01-01 00:00:00.000000002  Product_0979    Whse_J     Category_028   \n",
       "1970-01-01 00:00:00.000000003  Product_0979    Whse_J     Category_028   \n",
       "1970-01-01 00:00:00.000000004  Product_0979    Whse_J     Category_028   \n",
       "...                                     ...       ...              ...   \n",
       "1970-01-01 00:00:00.001048570  Product_1791    Whse_J     Category_006   \n",
       "1970-01-01 00:00:00.001048571  Product_1974    Whse_J     Category_006   \n",
       "1970-01-01 00:00:00.001048572  Product_1787    Whse_J     Category_006   \n",
       "1970-01-01 00:00:00.001048573  Product_0901    Whse_J     Category_023   \n",
       "1970-01-01 00:00:00.001048574  Product_0704    Whse_J     Category_001   \n",
       "\n",
       "                               Order_Demand  \n",
       "1970-01-01 00:00:00.000000000         100.0  \n",
       "1970-01-01 00:00:00.000000001         500.0  \n",
       "1970-01-01 00:00:00.000000002         500.0  \n",
       "1970-01-01 00:00:00.000000003         500.0  \n",
       "1970-01-01 00:00:00.000000004         500.0  \n",
       "...                                     ...  \n",
       "1970-01-01 00:00:00.001048570        1000.0  \n",
       "1970-01-01 00:00:00.001048571           1.0  \n",
       "1970-01-01 00:00:00.001048572        2500.0  \n",
       "1970-01-01 00:00:00.001048573          50.0  \n",
       "1970-01-01 00:00:00.001048574           4.0  \n",
       "\n",
       "[1048575 rows x 4 columns]"
      ]
     },
     "execution_count": 21,
     "metadata": {},
     "output_type": "execute_result"
    }
   ],
   "source": [
    "#sorting data\n",
    "df. Date.sort_values().unique()[:10]\n",
    "data= df.set_index('Date')\n",
    "data.index=pd.to_datetime(df.index)\n",
    "data"
   ]
  },
  {
   "cell_type": "markdown",
   "id": "c8cd5dba-0417-4b99-9a01-95ada39739a3",
   "metadata": {},
   "source": [
    "### Data Visualisation"
   ]
  },
  {
   "cell_type": "code",
   "execution_count": 23,
   "id": "11c494ff-3290-468b-8fe7-402f0986cc5e",
   "metadata": {},
   "outputs": [
    {
     "data": {
      "text/plain": [
       "<Axes: xlabel='Warehouse', ylabel='count'>"
      ]
     },
     "execution_count": 23,
     "metadata": {},
     "output_type": "execute_result"
    },
    {
     "data": {
      "image/png": "[encoded data removed]",
      "text/plain": [
       "<Figure size 640x480 with 1 Axes>"
      ]
     },
     "metadata": {},
     "output_type": "display_data"
    }
   ],
   "source": [
    "sns.countplot(x='Warehouse', data=df)"
   ]
  },
  {
   "cell_type": "code",
   "execution_count": 27,
   "id": "f761cef5-7108-4fdb-a08a-3e73175e9581",
   "metadata": {},
   "outputs": [
    {
     "data": {
      "text/plain": [
       "Warehouse\n",
       "Whse_A    1.511523e+08\n",
       "Whse_C    5.834583e+08\n",
       "Whse_J    3.353861e+09\n",
       "Whse_S    1.036126e+09\n",
       "Name: Order_Demand, dtype: float64"
      ]
     },
     "execution_count": 27,
     "metadata": {},
     "output_type": "execute_result"
    }
   ],
   "source": [
    "# showing total demand by each warehouse\n",
    "warehouse_Demand= data.groupby('Warehouse')['Order_Demand'].sum()\n",
    "warehouse_Demand"
   ]
  },
  {
   "cell_type": "markdown",
   "id": "d528184d-a094-4837-ab60-1f45439ae028",
   "metadata": {},
   "source": [
    "### Define parameters"
   ]
  },
  {
   "cell_type": "code",
   "execution_count": 29,
   "id": "a497f531-65a3-45df-a8d3-7411cb474b95",
   "metadata": {},
   "outputs": [
    {
     "data": {
      "text/plain": [
       "4936.48800893165"
      ]
     },
     "execution_count": 29,
     "metadata": {},
     "output_type": "execute_result"
    }
   ],
   "source": [
    "# Average demand\n",
    "demand = df[\"Order_Demand\"].mean() \n",
    "demand"
   ]
  },
  {
   "cell_type": "code",
   "execution_count": 31,
   "id": "dad60fe7-1f84-4a9d-b433-206bcba7818c",
   "metadata": {},
   "outputs": [
    {
     "data": {
      "text/plain": [
       "5124597821.0"
      ]
     },
     "execution_count": 31,
     "metadata": {},
     "output_type": "execute_result"
    }
   ],
   "source": [
    "#total demand\n",
    "initial_inventory= df[\"Order_Demand\"].sum()\n",
    "initial_inventory"
   ]
  },
  {
   "cell_type": "code",
   "execution_count": 33,
   "id": "f50ce8cc-79ca-426c-a6ac-387714f3f64c",
   "metadata": {},
   "outputs": [
    {
     "data": {
      "text/plain": [
       "10249195642.0"
      ]
     },
     "execution_count": 33,
     "metadata": {},
     "output_type": "execute_result"
    }
   ],
   "source": [
    "# maximum inventory level for constraint\n",
    "max_inventory= initial_inventory * 2\n",
    "max_inventory"
   ]
  },
  {
   "cell_type": "code",
   "execution_count": 35,
   "id": "8330c33a-9862-41cc-a186-7b41fcf12305",
   "metadata": {},
   "outputs": [],
   "source": [
    "# Example holding cost per unit day\n",
    "holding_cost= 2\n",
    "# Example ordering cost per order\n",
    "ordering_cost = 50\n",
    "# no. of days to hold inventory\n",
    "holding_days= 30"
   ]
  },
  {
   "cell_type": "markdown",
   "id": "724b2922-5503-4bc5-93ed-dcce681945dd",
   "metadata": {},
   "source": [
    "### Define objective function & constrain for optimization"
   ]
  },
  {
   "cell_type": "code",
   "execution_count": 37,
   "id": "ed85cf8b-bb1c-4349-9c9e-3d7695ed0fc2",
   "metadata": {},
   "outputs": [
    {
     "data": {
      "text/plain": [
       "[110]"
      ]
     },
     "execution_count": 37,
     "metadata": {},
     "output_type": "execute_result"
    }
   ],
   "source": [
    "c = [holding_cost * holding_days + ordering_cost]\n",
    "c"
   ]
  },
  {
   "cell_type": "code",
   "execution_count": 39,
   "id": "6343778e-4d44-488e-916d-4de07a53e450",
   "metadata": {},
   "outputs": [],
   "source": [
    "A= [[-1], [1]]\n",
    "B= [-demand, max_inventory - initial_inventory]\n",
    "bounds= [(0, None)]"
   ]
  },
  {
   "cell_type": "markdown",
   "id": "5c2ab4c0-e8b2-44fd-8cf5-a73364bd9c9b",
   "metadata": {},
   "source": [
    "### Solving optimisation problem"
   ]
  },
  {
   "cell_type": "code",
   "execution_count": 41,
   "id": "d242dafa-698d-48db-a301-5f39c1259b6b",
   "metadata": {},
   "outputs": [
    {
     "data": {
      "text/plain": [
       "        message: Optimization terminated successfully. (HiGHS Status 7: Optimal)\n",
       "        success: True\n",
       "         status: 0\n",
       "            fun: 543013.6809824816\n",
       "              x: [ 4.936e+03]\n",
       "            nit: 0\n",
       "          lower:  residual: [ 4.936e+03]\n",
       "                 marginals: [ 0.000e+00]\n",
       "          upper:  residual: [       inf]\n",
       "                 marginals: [ 0.000e+00]\n",
       "          eqlin:  residual: []\n",
       "                 marginals: []\n",
       "        ineqlin:  residual: [ 0.000e+00  5.125e+09]\n",
       "                 marginals: [-1.100e+02 -0.000e+00]\n",
       " mip_node_count: 0\n",
       " mip_dual_bound: 0.0\n",
       "        mip_gap: 0.0"
      ]
     },
     "execution_count": 41,
     "metadata": {},
     "output_type": "execute_result"
    }
   ],
   "source": [
    "# By linear programming\n",
    "x = linprog(c, A_ub=A, b_ub=B, bounds= bounds)\n",
    "x"
   ]
  },
  {
   "cell_type": "code",
   "execution_count": 43,
   "id": "60763ade-760a-433b-ae37-da4dd76904e1",
   "metadata": {},
   "outputs": [
    {
     "data": {
      "text/plain": [
       "4936.48800893165"
      ]
     },
     "execution_count": 43,
     "metadata": {},
     "output_type": "execute_result"
    }
   ],
   "source": [
    "# finding optimal order quantity\n",
    "optimal_order_quantity = x.x[0]\n",
    "total_cost = x.fun\n",
    "optimal_order_quantity"
   ]
  },
  {
   "cell_type": "markdown",
   "id": "740faeea-8b04-48ea-b491-bb72866ac454",
   "metadata": {},
   "source": [
    "### Perform sensitivity analysis"
   ]
  },
  {
   "cell_type": "code",
   "execution_count": 45,
   "id": "8c78b936-4ef4-48b5-a1dc-ca053c9db96f",
   "metadata": {},
   "outputs": [],
   "source": [
    "# 20% increase in demand\n",
    "demand_change= 1.2\n",
    "# 20% decrease in cost\n",
    "holding_cost_change= 0.8\n",
    "# 50% increase in lead time\n",
    "lead_time_change= 1.5"
   ]
  },
  {
   "cell_type": "code",
   "execution_count": 128,
   "id": "bd33ee2f-ca26-48a5-841c-f3344910a90c",
   "metadata": {},
   "outputs": [],
   "source": [
    "new_demand= demand* demand_change\n",
    "new_holding_cost= holding_cost*holding_cost_change\n",
    "new_lead_time= holding_days*holding_cost_change"
   ]
  },
  {
   "cell_type": "code",
   "execution_count": 49,
   "id": "bb43ea45-11b6-4bb6-82c5-e25e9dfc3ffc",
   "metadata": {},
   "outputs": [
    {
     "data": {
      "text/plain": [
       "5923.7856107179805"
      ]
     },
     "execution_count": 49,
     "metadata": {},
     "output_type": "execute_result"
    }
   ],
   "source": [
    "new_demand"
   ]
  },
  {
   "cell_type": "code",
   "execution_count": 51,
   "id": "c1c2ed2c-5c39-4c18-9716-6eff699531ab",
   "metadata": {},
   "outputs": [
    {
     "data": {
      "text/plain": [
       "1.6"
      ]
     },
     "execution_count": 51,
     "metadata": {},
     "output_type": "execute_result"
    }
   ],
   "source": [
    "new_holding_cost"
   ]
  },
  {
   "cell_type": "code",
   "execution_count": 53,
   "id": "1285c151-968d-4d8f-b447-e6447587e52e",
   "metadata": {},
   "outputs": [
    {
     "data": {
      "text/plain": [
       "24.0"
      ]
     },
     "execution_count": 53,
     "metadata": {},
     "output_type": "execute_result"
    }
   ],
   "source": [
    "new_lead_time"
   ]
  },
  {
   "cell_type": "markdown",
   "id": "4d273aca-3b42-498a-9fc7-b58fe39db924",
   "metadata": {},
   "source": [
    "### Function for sensitivity analysis"
   ]
  },
  {
   "cell_type": "code",
   "execution_count": 136,
   "id": "e3ebedbf-a42a-454b-98e7-a1515b204cc1",
   "metadata": {},
   "outputs": [],
   "source": [
    "def sensitivity_analysis(demand_change, holding_cost_change, lead_time_change):\n",
    "    new_demand = demand * demand_change\n",
    "    new_holding_cost = holding_cost * holding_cost_change\n",
    "    new_lead_time = holding_days * holding_cost_change    \n",
    "    new_c = [new_holding_cost + ordering_cost]\n",
    "    new_b = [-new_demand, max_inventory - initial_inventory]\n",
    "    new_x = linprog(new_c, A_ub=A, b_ub=new_b, bounds=bounds)\n",
    "    new_optimal_order_quantity = new_x.x[0]\n",
    "    new_total_cost = new_x.fun\n",
    "    return new_optimal_order_quantity, new_total_cost"
   ]
  },
  {
   "cell_type": "code",
   "execution_count": 116,
   "id": "a9f0e4d5-57f9-4a56-b99b-9000745298fd",
   "metadata": {},
   "outputs": [
    {
     "data": {
      "text/plain": [
       "5923.7856107179805"
      ]
     },
     "execution_count": 116,
     "metadata": {},
     "output_type": "execute_result"
    }
   ],
   "source": [
    "new_optimal_order_quantity"
   ]
  },
  {
   "cell_type": "code",
   "execution_count": 118,
   "id": "eade273c-bfc8-4994-bb6e-60b8625e5071",
   "metadata": {},
   "outputs": [
    {
     "data": {
      "text/plain": [
       "305667.3375130478"
      ]
     },
     "execution_count": 118,
     "metadata": {},
     "output_type": "execute_result"
    }
   ],
   "source": [
    "new_total_cost"
   ]
  },
  {
   "cell_type": "code",
   "execution_count": 138,
   "id": "33805d1b-8fb7-491b-9f01-84f831e35b99",
   "metadata": {},
   "outputs": [],
   "source": [
    "optimal_order_quantity_sensitivity, total_cost_sensitivity = sensitivity_analysis(\n",
    "    demand_change, holding_cost_change, lead_time_change)"
   ]
  },
  {
   "cell_type": "code",
   "execution_count": 140,
   "id": "43f3b639-9304-463e-a923-50f088b4a3f8",
   "metadata": {},
   "outputs": [
    {
     "name": "stdout",
     "output_type": "stream",
     "text": [
      "Sensitivity Analysis:\n",
      "Optimal Order Quantity (Sensitivity): 5923.7856107179805\n",
      "Total Cost Sensitivity: 305667.3375130478\n"
     ]
    }
   ],
   "source": [
    "# printing results\n",
    "print (\"Sensitivity Analysis:\")\n",
    "print (\"Optimal Order Quantity (Sensitivity):\", optimal_order_quantity_sensitivity)\n",
    "print (\"Total Cost Sensitivity:\",total_cost_sensitivity)"
   ]
  },
  {
   "cell_type": "code",
   "execution_count": 142,
   "id": "f7669702-b630-41dd-a5a1-c3e0ffd163d5",
   "metadata": {},
   "outputs": [
    {
     "data": {
      "image/png": "[encoded data removed]",
      "text/plain": [
       "<Figure size 640x480 with 1 Axes>"
      ]
     },
     "metadata": {},
     "output_type": "display_data"
    }
   ],
   "source": [
    "labels = [\"Original\", \"Sensitivity\"]\n",
    "total_costs = [total_cost, total_cost_sensitivity]\n",
    "plt.bar(labels, total_costs, color=['red', 'green'])\n",
    "plt.xlabel(\"Scenario\")\n",
    "plt.ylabel(\"Total Cost\")\n",
    "plt.title(\"Total Cost Comparison\")\n",
    "plt.show()"
   ]
  },
  {
   "cell_type": "code",
   "execution_count": 144,
   "id": "a434ccdb-84a0-4e66-a914-b49c2e177a4e",
   "metadata": {},
   "outputs": [
    {
     "data": {
      "image/png": "[encoded data removed]",
      "text/plain": [
       "<Figure size 640x480 with 1 Axes>"
      ]
     },
     "metadata": {},
     "output_type": "display_data"
    }
   ],
   "source": [
    "labels = [\"Original\", \"Sensitivity\"]\n",
    "optimal_orders = [optimal_order_quantity, optimal_order_quantity_sensitivity]\n",
    "plt.bar(labels, optimal_orders, color=['pink', 'yellow'])\n",
    "plt.xlabel(\"Scenario\")\n",
    "plt.ylabel(\"Optimal Orders\")\n",
    "plt.title(\"Optimal Order Comparison\")\n",
    "plt.show()"
   ]
  }
 ],
 "metadata": {
  "kernelspec": {
   "display_name": "anaconda-ai-2024.04-py310",
   "language": "python",
   "name": "conda-env-anaconda-ai-2024.04-py310-py"
  },
  "language_info": {
   "codemirror_mode": {
    "name": "ipython",
    "version": 3
   },
   "file_extension": ".py",
   "mimetype": "text/x-python",
   "name": "python",
   "nbconvert_exporter": "python",
   "pygments_lexer": "ipython3",
   "version": "3.10.13"
  }
 },
 "nbformat": 4,
 "nbformat_minor": 5
}
